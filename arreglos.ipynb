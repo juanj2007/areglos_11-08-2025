{
  "nbformat": 4,
  "nbformat_minor": 0,
  "metadata": {
    "colab": {
      "provenance": [],
      "authorship_tag": "ABX9TyMznN784lEGdsABH6kPNgx2",
      "include_colab_link": true
    },
    "kernelspec": {
      "name": "python3",
      "display_name": "Python 3"
    },
    "language_info": {
      "name": "python"
    }
  },
  "cells": [
    {
      "cell_type": "markdown",
      "metadata": {
        "id": "view-in-github",
        "colab_type": "text"
      },
      "source": [
        "<a href=\"https://colab.research.google.com/github/juanj2007/areglos_11-08-2025/blob/main/arreglos.ipynb\" target=\"_parent\"><img src=\"https://colab.research.google.com/assets/colab-badge.svg\" alt=\"Open In Colab\"/></a>"
      ]
    },
    {
      "cell_type": "code",
      "execution_count": null,
      "metadata": {
        "id": "90RsmtTMHUaU"
      },
      "outputs": [],
      "source": []
    },
    {
      "cell_type": "markdown",
      "source": [
        "25 de aosto de 2025 con matrices ejercicios y operaciones en matrices"
      ],
      "metadata": {
        "id": "6V-1ESNsHW7v"
      }
    },
    {
      "cell_type": "code",
      "source": [
        "import numpy as np\n",
        "# crear una matriz 2 * 2 con valores quemados\n",
        "matriz = np.array([[12, 5], [67, 98]])\n",
        "print(matriz)"
      ],
      "metadata": {
        "colab": {
          "base_uri": "https://localhost:8080/"
        },
        "id": "vhLO1IjPHezP",
        "outputId": "ead18b32-432a-428c-f953-cf5ac126aef8"
      },
      "execution_count": null,
      "outputs": [
        {
          "output_type": "stream",
          "name": "stdout",
          "text": [
            "[[12  5]\n",
            " [67 98]]\n"
          ]
        }
      ]
    },
    {
      "cell_type": "code",
      "source": [
        "# crear matrices llenos ceros\n",
        "matriz=np.zeros((3,3))\n",
        "print(matriz)\n",
        "print(\"\\033[34m ---------------------------otra dimesion de matrices---------- \\033[0m\")\n",
        "matriz1=np.zeros((2,7))\n",
        "print(matriz1)\n"
      ],
      "metadata": {
        "colab": {
          "base_uri": "https://localhost:8080/",
          "height": 119
        },
        "id": "qO8S5MM3K0YM",
        "outputId": "a69d14b4-76c4-4a36-c160-8f960c017f28"
      },
      "execution_count": null,
      "outputs": [
        {
          "output_type": "display_data",
          "data": {
            "text/plain": [
              "\u001b[1m[\u001b[0m\u001b[1m[\u001b[0m\u001b[1;36m0\u001b[0m. \u001b[1;36m0\u001b[0m. \u001b[1;36m0\u001b[0m.\u001b[1m]\u001b[0m\n",
              " \u001b[1m[\u001b[0m\u001b[1;36m0\u001b[0m. \u001b[1;36m0\u001b[0m. \u001b[1;36m0\u001b[0m.\u001b[1m]\u001b[0m\n",
              " \u001b[1m[\u001b[0m\u001b[1;36m0\u001b[0m. \u001b[1;36m0\u001b[0m. \u001b[1;36m0\u001b[0m.\u001b[1m]\u001b[0m\u001b[1m]\u001b[0m\n"
            ],
            "text/html": [
              "<pre style=\"white-space:pre;overflow-x:auto;line-height:normal;font-family:Menlo,'DejaVu Sans Mono',consolas,'Courier New',monospace\"><span style=\"font-weight: bold\">[[</span><span style=\"color: #008080; text-decoration-color: #008080; font-weight: bold\">0</span>. <span style=\"color: #008080; text-decoration-color: #008080; font-weight: bold\">0</span>. <span style=\"color: #008080; text-decoration-color: #008080; font-weight: bold\">0</span>.<span style=\"font-weight: bold\">]</span>\n",
              " <span style=\"font-weight: bold\">[</span><span style=\"color: #008080; text-decoration-color: #008080; font-weight: bold\">0</span>. <span style=\"color: #008080; text-decoration-color: #008080; font-weight: bold\">0</span>. <span style=\"color: #008080; text-decoration-color: #008080; font-weight: bold\">0</span>.<span style=\"font-weight: bold\">]</span>\n",
              " <span style=\"font-weight: bold\">[</span><span style=\"color: #008080; text-decoration-color: #008080; font-weight: bold\">0</span>. <span style=\"color: #008080; text-decoration-color: #008080; font-weight: bold\">0</span>. <span style=\"color: #008080; text-decoration-color: #008080; font-weight: bold\">0</span>.<span style=\"font-weight: bold\">]]</span>\n",
              "</pre>\n"
            ]
          },
          "metadata": {}
        },
        {
          "output_type": "display_data",
          "data": {
            "text/plain": [
              "\u001b\u001b[1m[\u001b[0m34m ---------------------------otra dimesion de matrices---------- \u001b\u001b[1m[\u001b[0m0m\n"
            ],
            "text/html": [
              "<pre style=\"white-space:pre;overflow-x:auto;line-height:normal;font-family:Menlo,'DejaVu Sans Mono',consolas,'Courier New',monospace\">\u001b<span style=\"font-weight: bold\">[</span>34m ---------------------------otra dimesion de matrices---------- \u001b<span style=\"font-weight: bold\">[</span>0m\n",
              "</pre>\n"
            ]
          },
          "metadata": {}
        },
        {
          "output_type": "display_data",
          "data": {
            "text/plain": [
              "\u001b[1m[\u001b[0m\u001b[1m[\u001b[0m\u001b[1;36m0\u001b[0m. \u001b[1;36m0\u001b[0m. \u001b[1;36m0\u001b[0m. \u001b[1;36m0\u001b[0m. \u001b[1;36m0\u001b[0m. \u001b[1;36m0\u001b[0m. \u001b[1;36m0\u001b[0m.\u001b[1m]\u001b[0m\n",
              " \u001b[1m[\u001b[0m\u001b[1;36m0\u001b[0m. \u001b[1;36m0\u001b[0m. \u001b[1;36m0\u001b[0m. \u001b[1;36m0\u001b[0m. \u001b[1;36m0\u001b[0m. \u001b[1;36m0\u001b[0m. \u001b[1;36m0\u001b[0m.\u001b[1m]\u001b[0m\u001b[1m]\u001b[0m\n"
            ],
            "text/html": [
              "<pre style=\"white-space:pre;overflow-x:auto;line-height:normal;font-family:Menlo,'DejaVu Sans Mono',consolas,'Courier New',monospace\"><span style=\"font-weight: bold\">[[</span><span style=\"color: #008080; text-decoration-color: #008080; font-weight: bold\">0</span>. <span style=\"color: #008080; text-decoration-color: #008080; font-weight: bold\">0</span>. <span style=\"color: #008080; text-decoration-color: #008080; font-weight: bold\">0</span>. <span style=\"color: #008080; text-decoration-color: #008080; font-weight: bold\">0</span>. <span style=\"color: #008080; text-decoration-color: #008080; font-weight: bold\">0</span>. <span style=\"color: #008080; text-decoration-color: #008080; font-weight: bold\">0</span>. <span style=\"color: #008080; text-decoration-color: #008080; font-weight: bold\">0</span>.<span style=\"font-weight: bold\">]</span>\n",
              " <span style=\"font-weight: bold\">[</span><span style=\"color: #008080; text-decoration-color: #008080; font-weight: bold\">0</span>. <span style=\"color: #008080; text-decoration-color: #008080; font-weight: bold\">0</span>. <span style=\"color: #008080; text-decoration-color: #008080; font-weight: bold\">0</span>. <span style=\"color: #008080; text-decoration-color: #008080; font-weight: bold\">0</span>. <span style=\"color: #008080; text-decoration-color: #008080; font-weight: bold\">0</span>. <span style=\"color: #008080; text-decoration-color: #008080; font-weight: bold\">0</span>. <span style=\"color: #008080; text-decoration-color: #008080; font-weight: bold\">0</span>.<span style=\"font-weight: bold\">]]</span>\n",
              "</pre>\n"
            ]
          },
          "metadata": {}
        }
      ]
    },
    {
      "cell_type": "code",
      "source": [
        "# otra forma de imprimiren colores\n",
        "from rich import print\n",
        "print(\"[bold red]Hola[/bold red] mundo!\")"
      ],
      "metadata": {
        "colab": {
          "base_uri": "https://localhost:8080/",
          "height": 34
        },
        "id": "6WzlXckWIHRx",
        "outputId": "880bf8ae-0ed8-4919-d1a9-08607506bff9"
      },
      "execution_count": null,
      "outputs": [
        {
          "output_type": "display_data",
          "data": {
            "text/plain": [
              "\u001b[1;31mHola\u001b[0m mundo!\n"
            ],
            "text/html": [
              "<pre style=\"white-space:pre;overflow-x:auto;line-height:normal;font-family:Menlo,'DejaVu Sans Mono',consolas,'Courier New',monospace\"><span style=\"color: #800000; text-decoration-color: #800000; font-weight: bold\">Hola</span> mundo!\n",
              "</pre>\n"
            ]
          },
          "metadata": {}
        }
      ]
    },
    {
      "cell_type": "code",
      "source": [
        "import numpy as np\n",
        "from rich import print\n",
        "MatrizA=([[2,0,1],[3,0,0],[5,1,1]])\n",
        "MatrizB=([[1,0,1],[1,2,1],[1,1,0]])\n",
        "# producto entre matrices\n",
        "producto=np.dot(MatrizA,MatrizB)\n",
        "print(f\"[yellow]este es el resultado \\n {producto}[/yellow]\")\n"
      ],
      "metadata": {
        "colab": {
          "base_uri": "https://localhost:8080/",
          "height": 85
        },
        "id": "373LONX-JEf7",
        "outputId": "5f2ec664-86b2-42b1-e728-609b45bd6c59"
      },
      "execution_count": null,
      "outputs": [
        {
          "output_type": "display_data",
          "data": {
            "text/plain": [
              "\u001b[33meste es el resultado \u001b[0m\n",
              "\u001b[33m \u001b[0m\u001b[1;33m[\u001b[0m\u001b[1;33m[\u001b[0m\u001b[1;33m3\u001b[0m\u001b[33m \u001b[0m\u001b[1;33m1\u001b[0m\u001b[33m \u001b[0m\u001b[1;33m2\u001b[0m\u001b[1;33m]\u001b[0m\n",
              "\u001b[33m \u001b[0m\u001b[1;33m[\u001b[0m\u001b[1;33m3\u001b[0m\u001b[33m \u001b[0m\u001b[1;33m0\u001b[0m\u001b[33m \u001b[0m\u001b[1;33m3\u001b[0m\u001b[1;33m]\u001b[0m\n",
              "\u001b[33m \u001b[0m\u001b[1;33m[\u001b[0m\u001b[1;33m7\u001b[0m\u001b[33m \u001b[0m\u001b[1;33m3\u001b[0m\u001b[33m \u001b[0m\u001b[1;33m6\u001b[0m\u001b[1;33m]\u001b[0m\u001b[1;33m]\u001b[0m\n"
            ],
            "text/html": [
              "<pre style=\"white-space:pre;overflow-x:auto;line-height:normal;font-family:Menlo,'DejaVu Sans Mono',consolas,'Courier New',monospace\"><span style=\"color: #808000; text-decoration-color: #808000\">este es el resultado </span>\n",
              "<span style=\"color: #808000; text-decoration-color: #808000\"> </span><span style=\"color: #808000; text-decoration-color: #808000; font-weight: bold\">[[</span><span style=\"color: #808000; text-decoration-color: #808000; font-weight: bold\">3</span><span style=\"color: #808000; text-decoration-color: #808000\"> </span><span style=\"color: #808000; text-decoration-color: #808000; font-weight: bold\">1</span><span style=\"color: #808000; text-decoration-color: #808000\"> </span><span style=\"color: #808000; text-decoration-color: #808000; font-weight: bold\">2</span><span style=\"color: #808000; text-decoration-color: #808000; font-weight: bold\">]</span>\n",
              "<span style=\"color: #808000; text-decoration-color: #808000\"> </span><span style=\"color: #808000; text-decoration-color: #808000; font-weight: bold\">[</span><span style=\"color: #808000; text-decoration-color: #808000; font-weight: bold\">3</span><span style=\"color: #808000; text-decoration-color: #808000\"> </span><span style=\"color: #808000; text-decoration-color: #808000; font-weight: bold\">0</span><span style=\"color: #808000; text-decoration-color: #808000\"> </span><span style=\"color: #808000; text-decoration-color: #808000; font-weight: bold\">3</span><span style=\"color: #808000; text-decoration-color: #808000; font-weight: bold\">]</span>\n",
              "<span style=\"color: #808000; text-decoration-color: #808000\"> </span><span style=\"color: #808000; text-decoration-color: #808000; font-weight: bold\">[</span><span style=\"color: #808000; text-decoration-color: #808000; font-weight: bold\">7</span><span style=\"color: #808000; text-decoration-color: #808000\"> </span><span style=\"color: #808000; text-decoration-color: #808000; font-weight: bold\">3</span><span style=\"color: #808000; text-decoration-color: #808000\"> </span><span style=\"color: #808000; text-decoration-color: #808000; font-weight: bold\">6</span><span style=\"color: #808000; text-decoration-color: #808000; font-weight: bold\">]]</span>\n",
              "</pre>\n"
            ]
          },
          "metadata": {}
        }
      ]
    },
    {
      "cell_type": "code",
      "source": [
        "import numpy as np\n",
        "MatrizA=([[2,0,1],[3,0,0],[5,1,1]])\n",
        "# formular de t\n",
        "MatrizT=np.transpose(MatrizA)\n",
        "print(f\"[yellow]este es el resultado \\n {MatrizT}[/yellow]\")\n"
      ],
      "metadata": {
        "colab": {
          "base_uri": "https://localhost:8080/",
          "height": 85
        },
        "id": "qRqbawFLL_82",
        "outputId": "8c01739b-57f3-4470-bbbd-04bd1060d7b1"
      },
      "execution_count": null,
      "outputs": [
        {
          "output_type": "display_data",
          "data": {
            "text/plain": [
              "\u001b[33meste es el resultado \u001b[0m\n",
              "\u001b[33m \u001b[0m\u001b[1;33m[\u001b[0m\u001b[1;33m[\u001b[0m\u001b[1;33m2\u001b[0m\u001b[33m \u001b[0m\u001b[1;33m3\u001b[0m\u001b[33m \u001b[0m\u001b[1;33m5\u001b[0m\u001b[1;33m]\u001b[0m\n",
              "\u001b[33m \u001b[0m\u001b[1;33m[\u001b[0m\u001b[1;33m0\u001b[0m\u001b[33m \u001b[0m\u001b[1;33m0\u001b[0m\u001b[33m \u001b[0m\u001b[1;33m1\u001b[0m\u001b[1;33m]\u001b[0m\n",
              "\u001b[33m \u001b[0m\u001b[1;33m[\u001b[0m\u001b[1;33m1\u001b[0m\u001b[33m \u001b[0m\u001b[1;33m0\u001b[0m\u001b[33m \u001b[0m\u001b[1;33m1\u001b[0m\u001b[1;33m]\u001b[0m\u001b[1;33m]\u001b[0m\n"
            ],
            "text/html": [
              "<pre style=\"white-space:pre;overflow-x:auto;line-height:normal;font-family:Menlo,'DejaVu Sans Mono',consolas,'Courier New',monospace\"><span style=\"color: #808000; text-decoration-color: #808000\">este es el resultado </span>\n",
              "<span style=\"color: #808000; text-decoration-color: #808000\"> </span><span style=\"color: #808000; text-decoration-color: #808000; font-weight: bold\">[[</span><span style=\"color: #808000; text-decoration-color: #808000; font-weight: bold\">2</span><span style=\"color: #808000; text-decoration-color: #808000\"> </span><span style=\"color: #808000; text-decoration-color: #808000; font-weight: bold\">3</span><span style=\"color: #808000; text-decoration-color: #808000\"> </span><span style=\"color: #808000; text-decoration-color: #808000; font-weight: bold\">5</span><span style=\"color: #808000; text-decoration-color: #808000; font-weight: bold\">]</span>\n",
              "<span style=\"color: #808000; text-decoration-color: #808000\"> </span><span style=\"color: #808000; text-decoration-color: #808000; font-weight: bold\">[</span><span style=\"color: #808000; text-decoration-color: #808000; font-weight: bold\">0</span><span style=\"color: #808000; text-decoration-color: #808000\"> </span><span style=\"color: #808000; text-decoration-color: #808000; font-weight: bold\">0</span><span style=\"color: #808000; text-decoration-color: #808000\"> </span><span style=\"color: #808000; text-decoration-color: #808000; font-weight: bold\">1</span><span style=\"color: #808000; text-decoration-color: #808000; font-weight: bold\">]</span>\n",
              "<span style=\"color: #808000; text-decoration-color: #808000\"> </span><span style=\"color: #808000; text-decoration-color: #808000; font-weight: bold\">[</span><span style=\"color: #808000; text-decoration-color: #808000; font-weight: bold\">1</span><span style=\"color: #808000; text-decoration-color: #808000\"> </span><span style=\"color: #808000; text-decoration-color: #808000; font-weight: bold\">0</span><span style=\"color: #808000; text-decoration-color: #808000\"> </span><span style=\"color: #808000; text-decoration-color: #808000; font-weight: bold\">1</span><span style=\"color: #808000; text-decoration-color: #808000; font-weight: bold\">]]</span>\n",
              "</pre>\n"
            ]
          },
          "metadata": {}
        }
      ]
    },
    {
      "cell_type": "code",
      "source": [
        "# suma de matrices\n",
        "import numpy as np\n",
        "from rich import print\n",
        "MatrizA=([[2,0,1],[3,0,0],[5,1,1]])\n",
        "#          2+1\n",
        "MatrizB=([[1,0,1],[1,2,1],[1,1,0]])\n",
        "suma=np.add(MatrizA,MatrizB)\n",
        "print(f\"[yellow]este es el resultado \\n {suma}[/yellow]\")\n",
        "# otra forma es\n",
        "MatrizA=([[2,0,1],[3,0,0],[5,1,1]])\n",
        "MatrizB=([[1,0,1],[1,2,1],[1,1,0]])\n",
        "# si quiero sumar todos los valores que tiene la matriz\n",
        "suma=np.sum(MatrizA)\n",
        "print(f\"[yellow]este es el resultado \\n {suma}[/yellow]\")\n",
        "\n"
      ],
      "metadata": {
        "colab": {
          "base_uri": "https://localhost:8080/",
          "height": 85
        },
        "id": "FoQSySRXQ60a",
        "outputId": "dab194f3-5b2f-4302-947a-649feb5e7fdd"
      },
      "execution_count": 8,
      "outputs": [
        {
          "output_type": "display_data",
          "data": {
            "text/plain": [
              "\u001b[33meste es el resultado \u001b[0m\n",
              "\u001b[33m \u001b[0m\u001b[1;33m[\u001b[0m\u001b[1;33m[\u001b[0m\u001b[1;33m3\u001b[0m\u001b[33m \u001b[0m\u001b[1;33m0\u001b[0m\u001b[33m \u001b[0m\u001b[1;33m2\u001b[0m\u001b[1;33m]\u001b[0m\n",
              "\u001b[33m \u001b[0m\u001b[1;33m[\u001b[0m\u001b[1;33m4\u001b[0m\u001b[33m \u001b[0m\u001b[1;33m2\u001b[0m\u001b[33m \u001b[0m\u001b[1;33m1\u001b[0m\u001b[1;33m]\u001b[0m\n",
              "\u001b[33m \u001b[0m\u001b[1;33m[\u001b[0m\u001b[1;33m6\u001b[0m\u001b[33m \u001b[0m\u001b[1;33m2\u001b[0m\u001b[33m \u001b[0m\u001b[1;33m1\u001b[0m\u001b[1;33m]\u001b[0m\u001b[1;33m]\u001b[0m\n"
            ],
            "text/html": [
              "<pre style=\"white-space:pre;overflow-x:auto;line-height:normal;font-family:Menlo,'DejaVu Sans Mono',consolas,'Courier New',monospace\"><span style=\"color: #808000; text-decoration-color: #808000\">este es el resultado </span>\n",
              "<span style=\"color: #808000; text-decoration-color: #808000\"> </span><span style=\"color: #808000; text-decoration-color: #808000; font-weight: bold\">[[</span><span style=\"color: #808000; text-decoration-color: #808000; font-weight: bold\">3</span><span style=\"color: #808000; text-decoration-color: #808000\"> </span><span style=\"color: #808000; text-decoration-color: #808000; font-weight: bold\">0</span><span style=\"color: #808000; text-decoration-color: #808000\"> </span><span style=\"color: #808000; text-decoration-color: #808000; font-weight: bold\">2</span><span style=\"color: #808000; text-decoration-color: #808000; font-weight: bold\">]</span>\n",
              "<span style=\"color: #808000; text-decoration-color: #808000\"> </span><span style=\"color: #808000; text-decoration-color: #808000; font-weight: bold\">[</span><span style=\"color: #808000; text-decoration-color: #808000; font-weight: bold\">4</span><span style=\"color: #808000; text-decoration-color: #808000\"> </span><span style=\"color: #808000; text-decoration-color: #808000; font-weight: bold\">2</span><span style=\"color: #808000; text-decoration-color: #808000\"> </span><span style=\"color: #808000; text-decoration-color: #808000; font-weight: bold\">1</span><span style=\"color: #808000; text-decoration-color: #808000; font-weight: bold\">]</span>\n",
              "<span style=\"color: #808000; text-decoration-color: #808000\"> </span><span style=\"color: #808000; text-decoration-color: #808000; font-weight: bold\">[</span><span style=\"color: #808000; text-decoration-color: #808000; font-weight: bold\">6</span><span style=\"color: #808000; text-decoration-color: #808000\"> </span><span style=\"color: #808000; text-decoration-color: #808000; font-weight: bold\">2</span><span style=\"color: #808000; text-decoration-color: #808000\"> </span><span style=\"color: #808000; text-decoration-color: #808000; font-weight: bold\">1</span><span style=\"color: #808000; text-decoration-color: #808000; font-weight: bold\">]]</span>\n",
              "</pre>\n"
            ]
          },
          "metadata": {}
        }
      ]
    },
    {
      "cell_type": "code",
      "source": [
        "import numpy as np\n",
        "MatrizA=([[2,0,1],[3,0,0],[5,1,1]])\n",
        "# formular de t\n",
        "MatrizT=np.transpose(MatrizA)\n",
        "print(f\"[yellow]este es el resultado \\n {MatrizT}[/yellow]\")"
      ],
      "metadata": {
        "colab": {
          "base_uri": "https://localhost:8080/"
        },
        "id": "Oz_F8r20RfC9",
        "outputId": "0290c9b1-267c-480e-af93-ecbb20945348"
      },
      "execution_count": 1,
      "outputs": [
        {
          "output_type": "stream",
          "name": "stdout",
          "text": [
            "[yellow]este es el resultado \n",
            " [[2 3 5]\n",
            " [0 0 1]\n",
            " [1 0 1]][/yellow]\n"
          ]
        }
      ]
    },
    {
      "cell_type": "code",
      "source": [
        "# ejemplo de una matriz  de 3*3 multimplicado por un escalar\n",
        "import numpy as np\n",
        "# libreria para los colores\n",
        "from rich import print\n",
        "\n",
        "Matriz=np.array([[2,4,5],[4,5,7],[1,0,9]])\n",
        "escalar=4\n",
        "MatrizEscalar=escalar*Matriz\n",
        "print(MatrizEscalar)\n",
        "# otra forma para manejar escalar\n",
        "producto=np.multiply(escalar,Matriz)\n",
        "print(f\"[blue]otra forma de operar \\n {producto}[/blue]\")"
      ],
      "metadata": {
        "colab": {
          "base_uri": "https://localhost:8080/"
        },
        "id": "0gQNn3u2juv4",
        "outputId": "0066070f-1c36-4f67-c1cd-01fc96f61829"
      },
      "execution_count": 2,
      "outputs": [
        {
          "output_type": "stream",
          "name": "stdout",
          "text": [
            "[[ 8 16 20]\n",
            " [16 20 28]\n",
            " [ 4  0 36]]\n"
          ]
        }
      ]
    },
    {
      "cell_type": "code",
      "source": [
        "# import numpy as np\n",
        "from rich import print\n",
        "MatrizA=([[2,0,1],[3,0,0],[5,1,1]])\n",
        "#          2-1\n",
        "MatrizB=([[1,0,1],[1,2,1],[1,1,0]])\n",
        "\n",
        "ResultadoResto=np.subtract(MatrizA,MatrizB)\n",
        "print(f\"[yellow]este es el resultado \\n {ResultadoResto}[/yellow]\")"
      ],
      "metadata": {
        "colab": {
          "base_uri": "https://localhost:8080/",
          "height": 85
        },
        "id": "HLTOnVozoQRn",
        "outputId": "3a7a49ec-f76e-42f7-ade2-165a9a59fcd9"
      },
      "execution_count": 4,
      "outputs": [
        {
          "output_type": "display_data",
          "data": {
            "text/plain": [
              "\u001b[33meste es el resultado \u001b[0m\n",
              "\u001b[33m \u001b[0m\u001b[1;33m[\u001b[0m\u001b[1;33m[\u001b[0m\u001b[33m \u001b[0m\u001b[1;33m1\u001b[0m\u001b[33m  \u001b[0m\u001b[1;33m0\u001b[0m\u001b[33m  \u001b[0m\u001b[1;33m0\u001b[0m\u001b[1;33m]\u001b[0m\n",
              "\u001b[33m \u001b[0m\u001b[1;33m[\u001b[0m\u001b[33m \u001b[0m\u001b[1;33m2\u001b[0m\u001b[33m \u001b[0m\u001b[1;33m-2\u001b[0m\u001b[33m \u001b[0m\u001b[1;33m-1\u001b[0m\u001b[1;33m]\u001b[0m\n",
              "\u001b[33m \u001b[0m\u001b[1;33m[\u001b[0m\u001b[33m \u001b[0m\u001b[1;33m4\u001b[0m\u001b[33m  \u001b[0m\u001b[1;33m0\u001b[0m\u001b[33m  \u001b[0m\u001b[1;33m1\u001b[0m\u001b[1;33m]\u001b[0m\u001b[1;33m]\u001b[0m\n"
            ],
            "text/html": [
              "<pre style=\"white-space:pre;overflow-x:auto;line-height:normal;font-family:Menlo,'DejaVu Sans Mono',consolas,'Courier New',monospace\"><span style=\"color: #808000; text-decoration-color: #808000\">este es el resultado </span>\n",
              "<span style=\"color: #808000; text-decoration-color: #808000\"> </span><span style=\"color: #808000; text-decoration-color: #808000; font-weight: bold\">[[</span><span style=\"color: #808000; text-decoration-color: #808000\"> </span><span style=\"color: #808000; text-decoration-color: #808000; font-weight: bold\">1</span><span style=\"color: #808000; text-decoration-color: #808000\">  </span><span style=\"color: #808000; text-decoration-color: #808000; font-weight: bold\">0</span><span style=\"color: #808000; text-decoration-color: #808000\">  </span><span style=\"color: #808000; text-decoration-color: #808000; font-weight: bold\">0</span><span style=\"color: #808000; text-decoration-color: #808000; font-weight: bold\">]</span>\n",
              "<span style=\"color: #808000; text-decoration-color: #808000\"> </span><span style=\"color: #808000; text-decoration-color: #808000; font-weight: bold\">[</span><span style=\"color: #808000; text-decoration-color: #808000\"> </span><span style=\"color: #808000; text-decoration-color: #808000; font-weight: bold\">2</span><span style=\"color: #808000; text-decoration-color: #808000\"> </span><span style=\"color: #808000; text-decoration-color: #808000; font-weight: bold\">-2</span><span style=\"color: #808000; text-decoration-color: #808000\"> </span><span style=\"color: #808000; text-decoration-color: #808000; font-weight: bold\">-1</span><span style=\"color: #808000; text-decoration-color: #808000; font-weight: bold\">]</span>\n",
              "<span style=\"color: #808000; text-decoration-color: #808000\"> </span><span style=\"color: #808000; text-decoration-color: #808000; font-weight: bold\">[</span><span style=\"color: #808000; text-decoration-color: #808000\"> </span><span style=\"color: #808000; text-decoration-color: #808000; font-weight: bold\">4</span><span style=\"color: #808000; text-decoration-color: #808000\">  </span><span style=\"color: #808000; text-decoration-color: #808000; font-weight: bold\">0</span><span style=\"color: #808000; text-decoration-color: #808000\">  </span><span style=\"color: #808000; text-decoration-color: #808000; font-weight: bold\">1</span><span style=\"color: #808000; text-decoration-color: #808000; font-weight: bold\">]]</span>\n",
              "</pre>\n"
            ]
          },
          "metadata": {}
        }
      ]
    },
    {
      "cell_type": "markdown",
      "source": [
        "con ciclos haremos operaciones con escalado"
      ],
      "metadata": {
        "id": "lZUfrKwbo7Oy"
      }
    },
    {
      "cell_type": "code",
      "source": [
        "import numpy as np\n",
        "# creame  de 3*3\n",
        "Matriz=np.array([[2,4,5],[4,5,7],[1,0,9]])\n",
        "escalar=4\n",
        "vector=np.zeros(9)\n",
        "print(vector)\n",
        "# c seria columna\n",
        "# f fila\n",
        "i=0\n",
        "# llenar un vecto de 9 posisciones con la matriz de 3*#\n",
        "for f in range(Matriz.shape[0]):\n",
        "  for c in range(Matriz.shape[1]):\n",
        "      a=Matriz[f,c]\n",
        "      vector[i]=a\n",
        "      i=i+1\n",
        "\n",
        "print(vector)\n",
        "# ahora si con el escalar la matriz\n",
        "tamano=len(matriz)\n",
        "print(\"tamaño matriz\", tamano)\n",
        "for i in range(tamano):\n",
        "  vector[i]=vector[i]*escalar\n",
        "print(vector)\n",
        "\n",
        "# multimplicar el escalar la matriz\n",
        "#shape es la  que da la dimension o tamaño de la matriz"
      ],
      "metadata": {
        "colab": {
          "base_uri": "https://localhost:8080/",
          "height": 85
        },
        "id": "d3foPq2Usdwp",
        "outputId": "77b9defd-0f8a-44a3-9e60-cc740e2a8329"
      },
      "execution_count": 10,
      "outputs": [
        {
          "output_type": "display_data",
          "data": {
            "text/plain": [
              "\u001b[1m[\u001b[0m\u001b[1;36m0\u001b[0m. \u001b[1;36m0\u001b[0m. \u001b[1;36m0\u001b[0m. \u001b[1;36m0\u001b[0m. \u001b[1;36m0\u001b[0m. \u001b[1;36m0\u001b[0m. \u001b[1;36m0\u001b[0m. \u001b[1;36m0\u001b[0m. \u001b[1;36m0\u001b[0m.\u001b[1m]\u001b[0m\n"
            ],
            "text/html": [
              "<pre style=\"white-space:pre;overflow-x:auto;line-height:normal;font-family:Menlo,'DejaVu Sans Mono',consolas,'Courier New',monospace\"><span style=\"font-weight: bold\">[</span><span style=\"color: #008080; text-decoration-color: #008080; font-weight: bold\">0</span>. <span style=\"color: #008080; text-decoration-color: #008080; font-weight: bold\">0</span>. <span style=\"color: #008080; text-decoration-color: #008080; font-weight: bold\">0</span>. <span style=\"color: #008080; text-decoration-color: #008080; font-weight: bold\">0</span>. <span style=\"color: #008080; text-decoration-color: #008080; font-weight: bold\">0</span>. <span style=\"color: #008080; text-decoration-color: #008080; font-weight: bold\">0</span>. <span style=\"color: #008080; text-decoration-color: #008080; font-weight: bold\">0</span>. <span style=\"color: #008080; text-decoration-color: #008080; font-weight: bold\">0</span>. <span style=\"color: #008080; text-decoration-color: #008080; font-weight: bold\">0</span>.<span style=\"font-weight: bold\">]</span>\n",
              "</pre>\n"
            ]
          },
          "metadata": {}
        },
        {
          "output_type": "display_data",
          "data": {
            "text/plain": [
              "\u001b[1m[\u001b[0m\u001b[1;36m2\u001b[0m. \u001b[1;36m4\u001b[0m. \u001b[1;36m5\u001b[0m. \u001b[1;36m4\u001b[0m. \u001b[1;36m5\u001b[0m. \u001b[1;36m7\u001b[0m. \u001b[1;36m1\u001b[0m. \u001b[1;36m0\u001b[0m. \u001b[1;36m9\u001b[0m.\u001b[1m]\u001b[0m\n"
            ],
            "text/html": [
              "<pre style=\"white-space:pre;overflow-x:auto;line-height:normal;font-family:Menlo,'DejaVu Sans Mono',consolas,'Courier New',monospace\"><span style=\"font-weight: bold\">[</span><span style=\"color: #008080; text-decoration-color: #008080; font-weight: bold\">2</span>. <span style=\"color: #008080; text-decoration-color: #008080; font-weight: bold\">4</span>. <span style=\"color: #008080; text-decoration-color: #008080; font-weight: bold\">5</span>. <span style=\"color: #008080; text-decoration-color: #008080; font-weight: bold\">4</span>. <span style=\"color: #008080; text-decoration-color: #008080; font-weight: bold\">5</span>. <span style=\"color: #008080; text-decoration-color: #008080; font-weight: bold\">7</span>. <span style=\"color: #008080; text-decoration-color: #008080; font-weight: bold\">1</span>. <span style=\"color: #008080; text-decoration-color: #008080; font-weight: bold\">0</span>. <span style=\"color: #008080; text-decoration-color: #008080; font-weight: bold\">9</span>.<span style=\"font-weight: bold\">]</span>\n",
              "</pre>\n"
            ]
          },
          "metadata": {}
        },
        {
          "output_type": "display_data",
          "data": {
            "text/plain": [
              "Tamaño matriz: \u001b[1;36m9\u001b[0m\n"
            ],
            "text/html": [
              "<pre style=\"white-space:pre;overflow-x:auto;line-height:normal;font-family:Menlo,'DejaVu Sans Mono',consolas,'Courier New',monospace\">Tamaño matriz: <span style=\"color: #008080; text-decoration-color: #008080; font-weight: bold\">9</span>\n",
              "</pre>\n"
            ]
          },
          "metadata": {}
        },
        {
          "output_type": "display_data",
          "data": {
            "text/plain": [
              "\u001b[1m[\u001b[0m \u001b[1;36m8\u001b[0m. \u001b[1;36m16\u001b[0m. \u001b[1;36m20\u001b[0m. \u001b[1;36m16\u001b[0m. \u001b[1;36m20\u001b[0m. \u001b[1;36m28\u001b[0m.  \u001b[1;36m4\u001b[0m.  \u001b[1;36m0\u001b[0m. \u001b[1;36m36\u001b[0m.\u001b[1m]\u001b[0m\n"
            ],
            "text/html": [
              "<pre style=\"white-space:pre;overflow-x:auto;line-height:normal;font-family:Menlo,'DejaVu Sans Mono',consolas,'Courier New',monospace\"><span style=\"font-weight: bold\">[</span> <span style=\"color: #008080; text-decoration-color: #008080; font-weight: bold\">8</span>. <span style=\"color: #008080; text-decoration-color: #008080; font-weight: bold\">16</span>. <span style=\"color: #008080; text-decoration-color: #008080; font-weight: bold\">20</span>. <span style=\"color: #008080; text-decoration-color: #008080; font-weight: bold\">16</span>. <span style=\"color: #008080; text-decoration-color: #008080; font-weight: bold\">20</span>. <span style=\"color: #008080; text-decoration-color: #008080; font-weight: bold\">28</span>.  <span style=\"color: #008080; text-decoration-color: #008080; font-weight: bold\">4</span>.  <span style=\"color: #008080; text-decoration-color: #008080; font-weight: bold\">0</span>. <span style=\"color: #008080; text-decoration-color: #008080; font-weight: bold\">36</span>.<span style=\"font-weight: bold\">]</span>\n",
              "</pre>\n"
            ]
          },
          "metadata": {}
        }
      ]
    },
    {
      "cell_type": "code",
      "source": [
        "# diagonal superio , e inferior\n",
        "import numpy as np\n",
        "tamano=4\n",
        "# crearemos una matriz de 4*4 para llenarlos de ceros\n",
        "matriz=np.zeros((tamano,tamano))\n",
        "print(matriz)\n",
        "# diagonal superior\n",
        "#i= fila\n",
        "#j = columna\n",
        "for f in range(tamano):\n",
        "  for c in range(tamano):\n",
        "    if f<=c:\n",
        "      matriz[f,c]=1\n",
        "print(matriz)\n",
        "# funcion de numpy con diagonal\n",
        "matriz=np.triu(matriz)\n",
        "print(f\"[#8A4236]{matriz}[/#8A4236]\")#\n"
      ],
      "metadata": {
        "colab": {
          "base_uri": "https://localhost:8080/",
          "height": 221
        },
        "id": "UAZCXUXev7Tb",
        "outputId": "038e9115-8cdf-4a86-bef6-8dc1192ea4c7"
      },
      "execution_count": 12,
      "outputs": [
        {
          "output_type": "display_data",
          "data": {
            "text/plain": [
              "\u001b[1m[\u001b[0m\u001b[1m[\u001b[0m\u001b[1;36m0\u001b[0m. \u001b[1;36m0\u001b[0m. \u001b[1;36m0\u001b[0m. \u001b[1;36m0\u001b[0m.\u001b[1m]\u001b[0m\n",
              " \u001b[1m[\u001b[0m\u001b[1;36m0\u001b[0m. \u001b[1;36m0\u001b[0m. \u001b[1;36m0\u001b[0m. \u001b[1;36m0\u001b[0m.\u001b[1m]\u001b[0m\n",
              " \u001b[1m[\u001b[0m\u001b[1;36m0\u001b[0m. \u001b[1;36m0\u001b[0m. \u001b[1;36m0\u001b[0m. \u001b[1;36m0\u001b[0m.\u001b[1m]\u001b[0m\n",
              " \u001b[1m[\u001b[0m\u001b[1;36m0\u001b[0m. \u001b[1;36m0\u001b[0m. \u001b[1;36m0\u001b[0m. \u001b[1;36m0\u001b[0m.\u001b[1m]\u001b[0m\u001b[1m]\u001b[0m\n"
            ],
            "text/html": [
              "<pre style=\"white-space:pre;overflow-x:auto;line-height:normal;font-family:Menlo,'DejaVu Sans Mono',consolas,'Courier New',monospace\"><span style=\"font-weight: bold\">[[</span><span style=\"color: #008080; text-decoration-color: #008080; font-weight: bold\">0</span>. <span style=\"color: #008080; text-decoration-color: #008080; font-weight: bold\">0</span>. <span style=\"color: #008080; text-decoration-color: #008080; font-weight: bold\">0</span>. <span style=\"color: #008080; text-decoration-color: #008080; font-weight: bold\">0</span>.<span style=\"font-weight: bold\">]</span>\n",
              " <span style=\"font-weight: bold\">[</span><span style=\"color: #008080; text-decoration-color: #008080; font-weight: bold\">0</span>. <span style=\"color: #008080; text-decoration-color: #008080; font-weight: bold\">0</span>. <span style=\"color: #008080; text-decoration-color: #008080; font-weight: bold\">0</span>. <span style=\"color: #008080; text-decoration-color: #008080; font-weight: bold\">0</span>.<span style=\"font-weight: bold\">]</span>\n",
              " <span style=\"font-weight: bold\">[</span><span style=\"color: #008080; text-decoration-color: #008080; font-weight: bold\">0</span>. <span style=\"color: #008080; text-decoration-color: #008080; font-weight: bold\">0</span>. <span style=\"color: #008080; text-decoration-color: #008080; font-weight: bold\">0</span>. <span style=\"color: #008080; text-decoration-color: #008080; font-weight: bold\">0</span>.<span style=\"font-weight: bold\">]</span>\n",
              " <span style=\"font-weight: bold\">[</span><span style=\"color: #008080; text-decoration-color: #008080; font-weight: bold\">0</span>. <span style=\"color: #008080; text-decoration-color: #008080; font-weight: bold\">0</span>. <span style=\"color: #008080; text-decoration-color: #008080; font-weight: bold\">0</span>. <span style=\"color: #008080; text-decoration-color: #008080; font-weight: bold\">0</span>.<span style=\"font-weight: bold\">]]</span>\n",
              "</pre>\n"
            ]
          },
          "metadata": {}
        },
        {
          "output_type": "display_data",
          "data": {
            "text/plain": [
              "\u001b[1m[\u001b[0m\u001b[1m[\u001b[0m\u001b[1;36m1\u001b[0m. \u001b[1;36m1\u001b[0m. \u001b[1;36m1\u001b[0m. \u001b[1;36m1\u001b[0m.\u001b[1m]\u001b[0m\n",
              " \u001b[1m[\u001b[0m\u001b[1;36m0\u001b[0m. \u001b[1;36m1\u001b[0m. \u001b[1;36m1\u001b[0m. \u001b[1;36m1\u001b[0m.\u001b[1m]\u001b[0m\n",
              " \u001b[1m[\u001b[0m\u001b[1;36m0\u001b[0m. \u001b[1;36m0\u001b[0m. \u001b[1;36m1\u001b[0m. \u001b[1;36m1\u001b[0m.\u001b[1m]\u001b[0m\n",
              " \u001b[1m[\u001b[0m\u001b[1;36m0\u001b[0m. \u001b[1;36m0\u001b[0m. \u001b[1;36m0\u001b[0m. \u001b[1;36m1\u001b[0m.\u001b[1m]\u001b[0m\u001b[1m]\u001b[0m\n"
            ],
            "text/html": [
              "<pre style=\"white-space:pre;overflow-x:auto;line-height:normal;font-family:Menlo,'DejaVu Sans Mono',consolas,'Courier New',monospace\"><span style=\"font-weight: bold\">[[</span><span style=\"color: #008080; text-decoration-color: #008080; font-weight: bold\">1</span>. <span style=\"color: #008080; text-decoration-color: #008080; font-weight: bold\">1</span>. <span style=\"color: #008080; text-decoration-color: #008080; font-weight: bold\">1</span>. <span style=\"color: #008080; text-decoration-color: #008080; font-weight: bold\">1</span>.<span style=\"font-weight: bold\">]</span>\n",
              " <span style=\"font-weight: bold\">[</span><span style=\"color: #008080; text-decoration-color: #008080; font-weight: bold\">0</span>. <span style=\"color: #008080; text-decoration-color: #008080; font-weight: bold\">1</span>. <span style=\"color: #008080; text-decoration-color: #008080; font-weight: bold\">1</span>. <span style=\"color: #008080; text-decoration-color: #008080; font-weight: bold\">1</span>.<span style=\"font-weight: bold\">]</span>\n",
              " <span style=\"font-weight: bold\">[</span><span style=\"color: #008080; text-decoration-color: #008080; font-weight: bold\">0</span>. <span style=\"color: #008080; text-decoration-color: #008080; font-weight: bold\">0</span>. <span style=\"color: #008080; text-decoration-color: #008080; font-weight: bold\">1</span>. <span style=\"color: #008080; text-decoration-color: #008080; font-weight: bold\">1</span>.<span style=\"font-weight: bold\">]</span>\n",
              " <span style=\"font-weight: bold\">[</span><span style=\"color: #008080; text-decoration-color: #008080; font-weight: bold\">0</span>. <span style=\"color: #008080; text-decoration-color: #008080; font-weight: bold\">0</span>. <span style=\"color: #008080; text-decoration-color: #008080; font-weight: bold\">0</span>. <span style=\"color: #008080; text-decoration-color: #008080; font-weight: bold\">1</span>.<span style=\"font-weight: bold\">]]</span>\n",
              "</pre>\n"
            ]
          },
          "metadata": {}
        },
        {
          "output_type": "display_data",
          "data": {
            "text/plain": [
              "\u001b[1;38;2;138;66;54m[\u001b[0m\u001b[1;38;2;138;66;54m[\u001b[0m\u001b[1;38;2;138;66;54m1\u001b[0m\u001b[38;2;138;66;54m. \u001b[0m\u001b[1;38;2;138;66;54m1\u001b[0m\u001b[38;2;138;66;54m. \u001b[0m\u001b[1;38;2;138;66;54m1\u001b[0m\u001b[38;2;138;66;54m. \u001b[0m\u001b[1;38;2;138;66;54m1\u001b[0m\u001b[38;2;138;66;54m.\u001b[0m\u001b[1;38;2;138;66;54m]\u001b[0m\n",
              "\u001b[38;2;138;66;54m \u001b[0m\u001b[1;38;2;138;66;54m[\u001b[0m\u001b[1;38;2;138;66;54m0\u001b[0m\u001b[38;2;138;66;54m. \u001b[0m\u001b[1;38;2;138;66;54m1\u001b[0m\u001b[38;2;138;66;54m. \u001b[0m\u001b[1;38;2;138;66;54m1\u001b[0m\u001b[38;2;138;66;54m. \u001b[0m\u001b[1;38;2;138;66;54m1\u001b[0m\u001b[38;2;138;66;54m.\u001b[0m\u001b[1;38;2;138;66;54m]\u001b[0m\n",
              "\u001b[38;2;138;66;54m \u001b[0m\u001b[1;38;2;138;66;54m[\u001b[0m\u001b[1;38;2;138;66;54m0\u001b[0m\u001b[38;2;138;66;54m. \u001b[0m\u001b[1;38;2;138;66;54m0\u001b[0m\u001b[38;2;138;66;54m. \u001b[0m\u001b[1;38;2;138;66;54m1\u001b[0m\u001b[38;2;138;66;54m. \u001b[0m\u001b[1;38;2;138;66;54m1\u001b[0m\u001b[38;2;138;66;54m.\u001b[0m\u001b[1;38;2;138;66;54m]\u001b[0m\n",
              "\u001b[38;2;138;66;54m \u001b[0m\u001b[1;38;2;138;66;54m[\u001b[0m\u001b[1;38;2;138;66;54m0\u001b[0m\u001b[38;2;138;66;54m. \u001b[0m\u001b[1;38;2;138;66;54m0\u001b[0m\u001b[38;2;138;66;54m. \u001b[0m\u001b[1;38;2;138;66;54m0\u001b[0m\u001b[38;2;138;66;54m. \u001b[0m\u001b[1;38;2;138;66;54m1\u001b[0m\u001b[38;2;138;66;54m.\u001b[0m\u001b[1;38;2;138;66;54m]\u001b[0m\u001b[1;38;2;138;66;54m]\u001b[0m\n"
            ],
            "text/html": [
              "<pre style=\"white-space:pre;overflow-x:auto;line-height:normal;font-family:Menlo,'DejaVu Sans Mono',consolas,'Courier New',monospace\"><span style=\"color: #8a4236; text-decoration-color: #8a4236; font-weight: bold\">[[</span><span style=\"color: #8a4236; text-decoration-color: #8a4236; font-weight: bold\">1</span><span style=\"color: #8a4236; text-decoration-color: #8a4236\">. </span><span style=\"color: #8a4236; text-decoration-color: #8a4236; font-weight: bold\">1</span><span style=\"color: #8a4236; text-decoration-color: #8a4236\">. </span><span style=\"color: #8a4236; text-decoration-color: #8a4236; font-weight: bold\">1</span><span style=\"color: #8a4236; text-decoration-color: #8a4236\">. </span><span style=\"color: #8a4236; text-decoration-color: #8a4236; font-weight: bold\">1</span><span style=\"color: #8a4236; text-decoration-color: #8a4236\">.</span><span style=\"color: #8a4236; text-decoration-color: #8a4236; font-weight: bold\">]</span>\n",
              "<span style=\"color: #8a4236; text-decoration-color: #8a4236\"> </span><span style=\"color: #8a4236; text-decoration-color: #8a4236; font-weight: bold\">[</span><span style=\"color: #8a4236; text-decoration-color: #8a4236; font-weight: bold\">0</span><span style=\"color: #8a4236; text-decoration-color: #8a4236\">. </span><span style=\"color: #8a4236; text-decoration-color: #8a4236; font-weight: bold\">1</span><span style=\"color: #8a4236; text-decoration-color: #8a4236\">. </span><span style=\"color: #8a4236; text-decoration-color: #8a4236; font-weight: bold\">1</span><span style=\"color: #8a4236; text-decoration-color: #8a4236\">. </span><span style=\"color: #8a4236; text-decoration-color: #8a4236; font-weight: bold\">1</span><span style=\"color: #8a4236; text-decoration-color: #8a4236\">.</span><span style=\"color: #8a4236; text-decoration-color: #8a4236; font-weight: bold\">]</span>\n",
              "<span style=\"color: #8a4236; text-decoration-color: #8a4236\"> </span><span style=\"color: #8a4236; text-decoration-color: #8a4236; font-weight: bold\">[</span><span style=\"color: #8a4236; text-decoration-color: #8a4236; font-weight: bold\">0</span><span style=\"color: #8a4236; text-decoration-color: #8a4236\">. </span><span style=\"color: #8a4236; text-decoration-color: #8a4236; font-weight: bold\">0</span><span style=\"color: #8a4236; text-decoration-color: #8a4236\">. </span><span style=\"color: #8a4236; text-decoration-color: #8a4236; font-weight: bold\">1</span><span style=\"color: #8a4236; text-decoration-color: #8a4236\">. </span><span style=\"color: #8a4236; text-decoration-color: #8a4236; font-weight: bold\">1</span><span style=\"color: #8a4236; text-decoration-color: #8a4236\">.</span><span style=\"color: #8a4236; text-decoration-color: #8a4236; font-weight: bold\">]</span>\n",
              "<span style=\"color: #8a4236; text-decoration-color: #8a4236\"> </span><span style=\"color: #8a4236; text-decoration-color: #8a4236; font-weight: bold\">[</span><span style=\"color: #8a4236; text-decoration-color: #8a4236; font-weight: bold\">0</span><span style=\"color: #8a4236; text-decoration-color: #8a4236\">. </span><span style=\"color: #8a4236; text-decoration-color: #8a4236; font-weight: bold\">0</span><span style=\"color: #8a4236; text-decoration-color: #8a4236\">. </span><span style=\"color: #8a4236; text-decoration-color: #8a4236; font-weight: bold\">0</span><span style=\"color: #8a4236; text-decoration-color: #8a4236\">. </span><span style=\"color: #8a4236; text-decoration-color: #8a4236; font-weight: bold\">1</span><span style=\"color: #8a4236; text-decoration-color: #8a4236\">.</span><span style=\"color: #8a4236; text-decoration-color: #8a4236; font-weight: bold\">]]</span>\n",
              "</pre>\n"
            ]
          },
          "metadata": {}
        }
      ]
    }
  ]
}